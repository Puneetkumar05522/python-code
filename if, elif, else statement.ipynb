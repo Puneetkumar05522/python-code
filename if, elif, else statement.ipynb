{
 "cells": [
  {
   "cell_type": "code",
   "execution_count": 2,
   "metadata": {},
   "outputs": [
    {
     "name": "stdout",
     "output_type": "stream",
     "text": [
      "b is greatar than a\n"
     ]
    }
   ],
   "source": [
    "# if Statement...\n",
    "a=33\n",
    "b=200\n",
    "if a<b:\n",
    "    print(\"b is greatar than a\")"
   ]
  },
  {
   "cell_type": "code",
   "execution_count": 4,
   "metadata": {},
   "outputs": [
    {
     "name": "stdout",
     "output_type": "stream",
     "text": [
      "a is equal to b\n"
     ]
    }
   ],
   "source": [
    "# elif Statement..\n",
    "a=40\n",
    "b=40\n",
    "if a<b:\n",
    "    print(\"a is less than a\")\n",
    "elif a==b:\n",
    "    print(\"a is equal to b\")"
   ]
  },
  {
   "cell_type": "code",
   "execution_count": 5,
   "metadata": {},
   "outputs": [
    {
     "name": "stdout",
     "output_type": "stream",
     "text": [
      "a is greater than b\n"
     ]
    }
   ],
   "source": [
    "# else The else keyword catches anything which isn't caught by the preceding conditions.\n",
    "a=50\n",
    "b=22\n",
    "if a<b:\n",
    "    print(\"a is less than b\")\n",
    "elif a==b:\n",
    "    print(\"a is equal to b\")\n",
    "else:\n",
    "    print(\"a is greater than b\")"
   ]
  },
  {
   "cell_type": "code",
   "execution_count": 7,
   "metadata": {},
   "outputs": [
    {
     "name": "stdout",
     "output_type": "stream",
     "text": [
      "a is greater than b\n"
     ]
    }
   ],
   "source": [
    "#short hand if condition..\n",
    "if a>b: print(\"a is greater than b\")"
   ]
  },
  {
   "cell_type": "code",
   "execution_count": 10,
   "metadata": {},
   "outputs": [
    {
     "name": "stdout",
     "output_type": "stream",
     "text": [
      "B\n"
     ]
    }
   ],
   "source": [
    "#Short hand if ... else\n",
    "a=5\n",
    "b=500\n",
    "print(\"A\") if a>b else print(\"B\")\n",
    "#This technique is known as Ternary Operators, or Conditional Expressions"
   ]
  },
  {
   "cell_type": "code",
   "execution_count": 12,
   "metadata": {},
   "outputs": [
    {
     "name": "stdout",
     "output_type": "stream",
     "text": [
      "b=a\n"
     ]
    }
   ],
   "source": [
    "#One line if else statement, with 3 conditions:\n",
    "a=700\n",
    "b=700\n",
    "print(\"A\") if a>b else print(\"b=a\") if a==b else print(\"B\") "
   ]
  },
  {
   "cell_type": "code",
   "execution_count": 18,
   "metadata": {},
   "outputs": [
    {
     "name": "stdout",
     "output_type": "stream",
     "text": [
      "both conditions are true\n"
     ]
    }
   ],
   "source": [
    "#The AND keyword is a logical operator, and is used to combine conditional statements:\n",
    "a=200\n",
    "b=33\n",
    "c=600\n",
    "if a>b and c>a:\n",
    "    print(\"both conditions are true\")"
   ]
  },
  {
   "cell_type": "code",
   "execution_count": 21,
   "metadata": {},
   "outputs": [
    {
     "name": "stdout",
     "output_type": "stream",
     "text": [
      "At least one of the condition is true\n"
     ]
    }
   ],
   "source": [
    "#The Or keyword is a logical operator, and is used to combine conditional statements:\n",
    "if a>b or a>c:\n",
    "    print(\"At least one of the condition is true\")"
   ]
  },
  {
   "cell_type": "code",
   "execution_count": 26,
   "metadata": {},
   "outputs": [
    {
     "name": "stdout",
     "output_type": "stream",
     "text": [
      "a is NOT greater than b\n"
     ]
    }
   ],
   "source": [
    "#The NOT keyword is a logical operator, and is used to reverse the result of the conditional statement:\n",
    "a=34\n",
    "b=500\n",
    "if not a>b:\n",
    "    print(\"a is NOT greater than b\")"
   ]
  },
  {
   "cell_type": "code",
   "execution_count": 28,
   "metadata": {},
   "outputs": [
    {
     "name": "stdout",
     "output_type": "stream",
     "text": [
      "Above ten,\n",
      "And also above 45!\n"
     ]
    }
   ],
   "source": [
    "#Nested if\n",
    "#You can have if statements inside if statements, this is called nested if statements.\n",
    "x=50\n",
    "if x>10:\n",
    "    print(\"Above ten,\")\n",
    "if x>45:\n",
    "    print(\"And also above 45!\")\n",
    "else:\n",
    "    print(\"but not above 45.\")\n"
   ]
  },
  {
   "cell_type": "code",
   "execution_count": 32,
   "metadata": {},
   "outputs": [],
   "source": [
    "#The pass Statement..\n",
    "#if statements cannot be empty, but if you for some\n",
    "#reason have an if statement with no content, put in the\n",
    "#pass statement to avoid getting an error.\n",
    "a=30\n",
    "b=300\n",
    "if b>a:\n",
    "    pass\n",
    "    \n"
   ]
  }
 ],
 "metadata": {
  "kernelspec": {
   "display_name": "Python 3",
   "language": "python",
   "name": "python3"
  },
  "language_info": {
   "codemirror_mode": {
    "name": "ipython",
    "version": 3
   },
   "file_extension": ".py",
   "mimetype": "text/x-python",
   "name": "python",
   "nbconvert_exporter": "python",
   "pygments_lexer": "ipython3",
   "version": "3.11.1"
  },
  "orig_nbformat": 4,
  "vscode": {
   "interpreter": {
    "hash": "7e5c0badbb2d24bbc3f94f0128230c51073dab69f6205fe8338cbe6039d785c3"
   }
  }
 },
 "nbformat": 4,
 "nbformat_minor": 2
}
